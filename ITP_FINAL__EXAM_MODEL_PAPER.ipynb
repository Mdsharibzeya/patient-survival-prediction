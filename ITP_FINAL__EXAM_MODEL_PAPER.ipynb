{
 "cells": [
  {
   "cell_type": "markdown",
   "metadata": {},
   "source": [
    "# INTRODUCTION TO PYTHON"
   ]
  },
  {
   "cell_type": "markdown",
   "metadata": {},
   "source": [
    "## Final Exam \n",
    "## Total Marks : 70 Marks"
   ]
  },
  {
   "cell_type": "markdown",
   "metadata": {},
   "source": [
    "----"
   ]
  },
  {
   "cell_type": "markdown",
   "metadata": {},
   "source": [
    "# SECTION A: 20 MARKS"
   ]
  },
  {
   "cell_type": "markdown",
   "metadata": {},
   "source": [
    " _________________"
   ]
  },
  {
   "cell_type": "code",
   "execution_count": 22,
   "metadata": {},
   "outputs": [
    {
     "name": "stdout",
     "output_type": "stream",
     "text": [
      "enter  a list more than 4 seperated by comma3,5,4,34,23,54\n",
      "[3, 5, 4, 34, 23, 54]\n",
      "the length is apt\n",
      "[34]\n",
      "[3, 34, 4]\n",
      "[5, 3, 4, 54, 23, 34]\n"
     ]
    }
   ],
   "source": [
    "l = input('enter  a list more than 4 seperated by comma')\n",
    "l = l.split(',')\n",
    "a = []\n",
    "for i in l:\n",
    "    a.append(int(i))\n",
    "print(a)\n",
    "if len(a)<4 :\n",
    "    print(\"Invalid size and enter a size more than 4\")\n",
    "else:\n",
    "    print('the length is apt')\n",
    "    c = random.choices(a,k=1)\n",
    "    print(c)\n",
    "    k = random.sample(a,k=3)\n",
    "    print(k)\n",
    "    shuffle =random.shuffle(a)\n",
    "    print(a)"
   ]
  },
  {
   "cell_type": "markdown",
   "metadata": {},
   "source": [
    "### Q1.  Write a program that asks the user to enter size of the list, then do the following: (5Marks)\n",
    "(a) if size of the list is less than 4 then print a message to user \"Invalid size and enter a size more than 4\". The program will continue from begining.\n",
    "\n",
    "(b) After taking valid size , program should take list items from user and create user defined list. \n",
    "\n",
    "(c) Use the choice() function to print out random item from the list.\n",
    "\n",
    "(d) Use the sample() function to print out three random items from the list.\n",
    "\n",
    "(e) Use the shuffle() function to reorder the list and then print out the list.\n",
    "\n",
    "\n",
    "**Choice(),shuffle(),sample() functions are defined under random library. You need to import random library to use it.**\n",
    "\n",
    "***\n",
    "#### Sample Input/Output:\n",
    "\n",
    "\n",
    "<span style=\"font-family:consolas \">\n",
    "\n",
    "Enter number of elements in the list: 3\n",
    "\n",
    "Invalid size and enter a size more than 4\n",
    "\n",
    "Enter number of elements in the list: 5\n",
    "\n",
    "1\n",
    "\n",
    "2\n",
    "\n",
    "3\n",
    "\n",
    "4\n",
    "\n",
    "5\n",
    "\n",
    "Random item from the list:  1\n",
    "\n",
    "Three random items from the list: ['1', '4', '2']\n",
    "\n",
    "Shuffeled list: ['3', '4', '5', '1', '2']\n",
    "\n",
    "***"
   ]
  },
  {
   "cell_type": "code",
   "execution_count": 11,
   "metadata": {},
   "outputs": [
    {
     "name": "stdout",
     "output_type": "stream",
     "text": [
      "Enter number of elements in the list:4\n",
      "Enter the number 3\n",
      "[3]\n",
      "Enter the number 4\n",
      "[3, 4]\n",
      "Enter the number 5\n",
      "[3, 4, 5]\n",
      "Enter the number 6\n",
      "[3, 4, 5, 6]\n",
      "6\n",
      "[4, 3, 6]\n",
      "[5, 4, 3, 6]\n"
     ]
    }
   ],
   "source": [
    "import random\n",
    "number=int(input('Enter number of elements in the list:'))\n",
    "if number <4:\n",
    "    print(\"Invalid size and enter a size more than 4\")\n",
    "else:\n",
    "    user_def_list=[]\n",
    "    for i in range(number):\n",
    "        l=(int(input('Enter the number ')))\n",
    "        user_def_list.append(l)\n",
    "        print(user_def_list)\n",
    "        if len(user_def_list)==number:\n",
    "            print(random.choice(user_def_list))\n",
    "            print(random.sample(user_def_list,3))\n",
    "            y=user_def_list.copy()\n",
    "            random.shuffle(y)\n",
    "            print(y)\n",
    "            \n",
    "        \n",
    "\n",
    "        \n"
   ]
  },
  {
   "cell_type": "code",
   "execution_count": 76,
   "metadata": {},
   "outputs": [
    {
     "name": "stdout",
     "output_type": "stream",
     "text": [
      "enter a number4\n",
      "1    \n",
      " 2   \n",
      "  3  \n",
      "   4 \n",
      "3\n",
      "   2\n",
      "   1\n"
     ]
    }
   ],
   "source": [
    "x = int(input('enter a number'))\n",
    "for i in range(1,x+1):\n",
    "    for j in range(1,x+1):\n",
    "        \n",
    "        if i==(j):\n",
    "            print(i,end=' ')\n",
    "        else:\n",
    "            print(end=' ')\n",
    "    print()\n",
    "for i in range(x-1,0,-1):\n",
    "    for j in range(x-1,0,-1):\n",
    "        if i!=(j):\n",
    "            print(end=' ')\n",
    "            \n",
    "        elif i==j:\n",
    "            print(i)\n"
   ]
  },
  {
   "cell_type": "code",
   "execution_count": 54,
   "metadata": {},
   "outputs": [
    {
     "name": "stdout",
     "output_type": "stream",
     "text": [
      "enter the number3\n",
      "1   \n",
      " 2  \n",
      "  3 \n"
     ]
    }
   ],
   "source": [
    "num=int(input('enter the number'))\n",
    "for i in range(1,num+1):\n",
    "    for j in range(1,num+1):\n",
    "        if i==j:\n",
    "            print(i,end=' ')\n",
    "        else:\n",
    "            print(end=' ')\n",
    "    print()"
   ]
  },
  {
   "cell_type": "markdown",
   "metadata": {},
   "source": [
    "### Q2. Ask the user for a number and then print the following, where the pattern ends at the number that the user enters.\n",
    "<pre>\n",
    "1\n",
    " 2\n",
    "  3\n",
    "   4\n",
    "    5\n",
    "   4\n",
    "  3\n",
    " 2\n",
    "1\n",
    "</pre>\n",
    "\n",
    "***\n",
    "#### Sample Input/Output:\n",
    "\n",
    "***"
   ]
  },
  {
   "cell_type": "code",
   "execution_count": 73,
   "metadata": {
    "scrolled": true
   },
   "outputs": [
    {
     "name": "stdout",
     "output_type": "stream",
     "text": [
      "enter the number5\n",
      "1     \n",
      " 2    \n",
      "  3   \n",
      "   4  \n",
      "    5 \n",
      "   4\n",
      "  3\n",
      " 2\n",
      " 1\n"
     ]
    }
   ],
   "source": [
    "num=int(input('enter the number'))\n",
    "for i in range(1,num+1):\n",
    "    for j in range(1,num+1):\n",
    "        if i==j:\n",
    "            print(i,end=' ')\n",
    "        else:\n",
    "            print(end=' ')\n",
    "    print()\n",
    "\n",
    "for i in reversed(range(1,num)):\n",
    "    x=num-1\n",
    "    for j in reversed(range (1,num)):\n",
    "        x-=1\n",
    "        if i==j:\n",
    "            y=x-1\n",
    "            print(' '*y,(i))\n",
    "        \n",
    "        else:\n",
    "            pass\n",
    "        \n",
    "    \n",
    "\n",
    "            \n",
    "        \n",
    "       "
   ]
  },
  {
   "cell_type": "raw",
   "metadata": {},
   "source": [
    "Enter the number: 5\n",
    "1\n",
    " 2\n",
    "  3\n",
    "   4\n",
    "    5\n",
    "   4\n",
    "  3\n",
    " 2\n",
    "1"
   ]
  },
  {
   "cell_type": "code",
   "execution_count": null,
   "metadata": {},
   "outputs": [],
   "source": [
    "number=int(input('Enter the number'))"
   ]
  },
  {
   "cell_type": "code",
   "execution_count": 103,
   "metadata": {},
   "outputs": [
    {
     "name": "stdout",
     "output_type": "stream",
     "text": [
      "Enter the number: 5\n",
      "1\n",
      " 2\n",
      "  3\n",
      "   4\n",
      "    5\n",
      "   4\n",
      "  3\n",
      " 2\n",
      "1\n"
     ]
    }
   ],
   "source": [
    "num = int(input('Enter the number: '))\n",
    "\n",
    "\n",
    "for i in range(0,num):\n",
    "    for j in range(i):\n",
    "        print(' ' , end = '')\n",
    "    print(i+1)\n",
    "for n in reversed(range(num - 1)):\n",
    "    for m in range(n):\n",
    "        print(' ',end = '')\n",
    "    print(n+1)"
   ]
  },
  {
   "cell_type": "code",
   "execution_count": null,
   "metadata": {},
   "outputs": [],
   "source": []
  },
  {
   "cell_type": "code",
   "execution_count": null,
   "metadata": {},
   "outputs": [],
   "source": []
  },
  {
   "cell_type": "markdown",
   "metadata": {},
   "source": [
    "### Q3.Write a program to validate the data entered by its user and then perform conversion from kilogram to pounds. Write a program that asks the user for a weight and converts it from kilograms to pounds. Whenever the user enters a weight below 0, the program should tell them that their entry is invalid and then ask them again to enter a weight. At the end it should show a weight converted into pounds. do this repeatedly untill user enters 'STOP' [use of IF statement is restricated here] (5 marks)\n",
    "\n",
    "\n",
    "***\n",
    "#### Sample Input/Output:\n",
    "\n",
    "Enter Weight or enter STOP: 10\n",
    "\n",
    "Weight in pounds:  22.046226218 lbs\n",
    "\n",
    "Enter Weight: 50\n",
    "\n",
    "Weight in pounds:  110.23113109 lbs\n",
    "\n",
    "Enter Weight: 45\n",
    "\n",
    "Weight in pounds:  99.208017981 lbs\n",
    "\n",
    "Enter Weight: 62\n",
    "\n",
    "Weight in pounds:  136.6866025516 lbs\n",
    "\n",
    "Enter Weight: STOP\n",
    "\n",
    "***"
   ]
  },
  {
   "cell_type": "code",
   "execution_count": 101,
   "metadata": {},
   "outputs": [
    {
     "name": "stdout",
     "output_type": "stream",
     "text": [
      "Enter Weight or enter STOP3\n",
      "Weight in pounds 6.622516556291391\n",
      "Enter Weight or enter STOPSTOP\n"
     ]
    }
   ],
   "source": [
    "while True:\n",
    "    x=input('Enter Weight or enter STOP')\n",
    "    try:\n",
    "        int(x)\n",
    "    except ValueError:\n",
    "        break\n",
    "    else: \n",
    "        while int(x)<0:\n",
    "            print('enter valid weight')\n",
    "        while int(x)>=0:\n",
    "            p=int(x)/0.453\n",
    "            print('Weight in pounds',p)\n",
    "            break\n",
    "            \n",
    "        \n",
    "    "
   ]
  },
  {
   "cell_type": "code",
   "execution_count": null,
   "metadata": {},
   "outputs": [],
   "source": []
  },
  {
   "cell_type": "raw",
   "metadata": {},
   "source": []
  },
  {
   "cell_type": "code",
   "execution_count": 86,
   "metadata": {},
   "outputs": [
    {
     "name": "stdout",
     "output_type": "stream",
     "text": [
      "enter 10 elements containing numbers between 1 and 1512,23\n"
     ]
    },
    {
     "data": {
      "text/plain": [
       "([10], [10])"
      ]
     },
     "execution_count": 86,
     "metadata": {},
     "output_type": "execute_result"
    }
   ],
   "source": [
    "string = input('enter 10 elements containing numbers between 1 and 15')\n",
    "lis = string.split(',')\n",
    "lis=tuple(lis)\n",
    "tuple(map(lambda x:[10 if int(x)>10 else int(x)],lis))"
   ]
  },
  {
   "cell_type": "markdown",
   "metadata": {},
   "source": [
    "### Q4. Ask the user to enter a list of 10 elemnts containing numbers between 1 and 15. Then replace all of the entries in the list that are greater than 10, with 10 using map() function.(5 Marks)\n",
    "\n",
    "\n",
    "***\n",
    "#### Sample Input/Output:\n",
    "\n",
    "Enter a number between 1 to 15: 3\n",
    "\n",
    "Enter a number between 1 to 15: 13\n",
    "\n",
    "Enter a number between 1 to 15: 7\n",
    "\n",
    "Enter a number between 1 to 15: 12\n",
    "\n",
    "Enter a number between 1 to 15: 13\n",
    "\n",
    "Enter a number between 1 to 15: 4\n",
    "\n",
    "Enter a number between 1 to 15: 5\n",
    "\n",
    "Enter a number between 1 to 15: 6\n",
    "\n",
    "Enter a number between 1 to 15: 17\n",
    "\n",
    "Enter a number between 1 to 15: 18\n",
    "\n",
    "Output list :  [3, 10, 7, 10, 10, 4, 5, 6, 10, 10]\n",
    "\n",
    "***"
   ]
  },
  {
   "cell_type": "code",
   "execution_count": null,
   "metadata": {},
   "outputs": [],
   "source": []
  },
  {
   "cell_type": "code",
   "execution_count": 89,
   "metadata": {},
   "outputs": [
    {
     "name": "stdout",
     "output_type": "stream",
     "text": [
      "Enter a number between 1 to 15: 4\n",
      "Enter a number between 1 to 15: 5\n",
      "Enter a number between 1 to 15: 6\n",
      "Enter a number between 1 to 15: 12\n",
      "Enter a number between 1 to 15: 3\n",
      "Enter a number between 1 to 15: 4\n",
      "Enter a number between 1 to 15: 6\n",
      "Enter a number between 1 to 15: 7\n",
      "Enter a number between 1 to 15: 8\n",
      "Enter a number between 1 to 15: 23\n",
      "input list [4, 5, 6, 12, 3, 4, 6, 7, 8, 23]\n",
      "output: [4, 5, 6, 10, 3, 4, 6, 7, 8, 10]\n"
     ]
    }
   ],
   "source": [
    "li=[]\n",
    "for i in range(10):\n",
    "    num=int(input('Enter a number between 1 to 15: '))\n",
    "    li.append(num)\n",
    "print('input list',li)\n",
    "output=map(lambda x:10 if (x>10) else x,li)\n",
    "print('output:',list(output))"
   ]
  },
  {
   "cell_type": "code",
   "execution_count": null,
   "metadata": {},
   "outputs": [],
   "source": []
  },
  {
   "cell_type": "code",
   "execution_count": null,
   "metadata": {},
   "outputs": [],
   "source": []
  },
  {
   "cell_type": "markdown",
   "metadata": {},
   "source": [
    "# SECTION B: 20 MARKS"
   ]
  },
  {
   "cell_type": "markdown",
   "metadata": {},
   "source": [
    "---------------------"
   ]
  },
  {
   "cell_type": "markdown",
   "metadata": {},
   "source": [
    "### Q5. A superstore has multiple items to sell. These items are categorised as  category A and category B. For festival time the superstore decided to declare some discount, as given below. \n",
    "\n",
    "### for category A items, it charges Rs.15 per item if you buy less than 30 quantity of an item. If you buy between 30 and 99 quantity of an item, the cost is Rs.12 per item. If buying quantity is 100 or more for an item, the cost is Rs.10 per item. \n",
    "\n",
    "### For category B items, it charges Rs.30 per item if you buy less than 50 quantity of an item. If you buy between 50 and 99 quantity of an item, the cost is Rs.25 per item. If buying quantity is 100 or more for an item, the cost is Rs.20 per item. Further it also gives discount of 5% if total bill exceeds 1000 and 10% if bill exceeds 1500.\n",
    "\n",
    "### Write a program which repeatedly ask user to enter no of items and its category. If user enters 'STOP' it shows user has done with the purchase, now calculate total payable amount and display it to user(10 Marks)\n",
    "\n",
    "\n",
    "***\n",
    "#### Sample Input/Output:\n",
    "Enter no of items and its category: 23,A\n",
    "\n",
    "Enter no of items and its category: 56, b\n",
    "\n",
    "Enter no of items and its category: 67,b\n",
    "\n",
    "Enter no of items and its category: 110,a\n",
    "\n",
    "Enter no of items and its category: STOP\n",
    "\n",
    "Total amount payable is :  2808.0\n",
    "\n",
    "***"
   ]
  },
  {
   "cell_type": "code",
   "execution_count": null,
   "metadata": {},
   "outputs": [],
   "source": [
    "for category A items, it charges Rs.15 per item \n",
    "if you buy less than 30 quantity of an item.\n",
    "If you buy between 30 and 99 quantity of an item, the cost is Rs.12 per item. \n",
    "If buying quantity is 100 or more for an item, the cost is Rs.10 per item.\n",
    "For category B items, it charges Rs.30 per item \n",
    "if you buy less than 50 quantity of an item.\n",
    "If you buy between 50 and 99 quantity of an item, the cost is Rs.25 per item. \n",
    "If buying quantity is 100 or more for an item, the cost is Rs.20 per item. \n",
    "Further it also gives discount of 5% if total bill exceeds 1000 and 10% if bill exceeds 1500."
   ]
  },
  {
   "cell_type": "code",
   "execution_count": 113,
   "metadata": {},
   "outputs": [
    {
     "data": {
      "text/plain": [
       "['23', 'a']"
      ]
     },
     "execution_count": 113,
     "metadata": {},
     "output_type": "execute_result"
    }
   ],
   "source": [
    "x=('23,a') \n",
    "z=x.split(',')\n",
    "\n",
    "p=[i for i in z if isinstance(i, str)]\n",
    "p"
   ]
  },
  {
   "cell_type": "code",
   "execution_count": 119,
   "metadata": {},
   "outputs": [
    {
     "name": "stdout",
     "output_type": "stream",
     "text": [
      " Enter no of items and catagory (saparated by a space) or enter 'stop' to stop : 23 a\n",
      " Enter no of items and catagory (saparated by a space) or enter 'stop' to stop : 23 b\n",
      " Enter no of items and catagory (saparated by a space) or enter 'stop' to stop : 45 a\n",
      " Enter no of items and catagory (saparated by a space) or enter 'stop' to stop : stop\n",
      "Total amount Payble is : 1417.5\n"
     ]
    }
   ],
   "source": [
    "cost=0\n",
    "while(True):\n",
    "    \n",
    "    i = input(\" Enter no of items and catagory (saparated by a space) or enter 'stop' to stop : \")\n",
    "    \n",
    "    if i.lower()== 'stop':\n",
    "        \n",
    "        break\n",
    "    else:    \n",
    "        i = i.split()\n",
    "        y= i[1]\n",
    "        u= int(i[0])\n",
    "        if y.lower() == 'a' and u < 30:\n",
    "            cost=cost+(u*15)\n",
    "            \n",
    "        elif y.lower() == 'a' and u >= 30 and u <=99:\n",
    "            cost=cost+(u*12)\n",
    "            \n",
    "        elif y.lower() == 'a' and u >100:\n",
    "             cost=cost+(u*10)\n",
    "        elif y.lower() == 'b' and u <50:\n",
    "             cost=cost+(u*30)\n",
    "        elif y.lower() == 'b' and u >= 50 and u <=99:\n",
    "            cost=cost+(u*25)\n",
    "        elif y.lower() == 'b' and u >100:\n",
    "             cost=cost+(u*20)\n",
    "if cost >= 1000 and cost < 1500:\n",
    "    c= cost-(cost*(5/100))\n",
    "elif cost >= 1500:\n",
    "    c=cost-(cost*(10/100))\n",
    "print(\"Total amount Payble is :\",c)"
   ]
  },
  {
   "cell_type": "code",
   "execution_count": 2,
   "metadata": {},
   "outputs": [],
   "source": [
    "import random"
   ]
  },
  {
   "cell_type": "code",
   "execution_count": 3,
   "metadata": {},
   "outputs": [],
   "source": [
    "def countX(lst, x):\n",
    "    count = 0\n",
    "    for ele in lst:\n",
    "        if (ele == x):\n",
    "            count = count + 1\n",
    "    return count"
   ]
  },
  {
   "cell_type": "markdown",
   "metadata": {},
   "source": [
    "### Q6.Create a 5*5  list of numbers from 1 to 10 using list comprehension. Print the nested list. \n",
    "### Create a dictionary whose keys are the numbers and whose values are the frequencies of the number in the nested list mentined above\n",
    "### Print the dictionary in the descending order of frequencies of the numbers. \n",
    "### Then print the three most common numbers.(10 Marks) \n",
    "\n",
    "\n",
    "***\n",
    "#### Sample Input/Output:\n",
    "\n",
    "5 * 5 nested list : \n",
    "[[10, 3, 10, 9, 4], [1, 6, 1, 2, 5], [4, 1, 5, 9, 7], [9, 7, 5, 4, 1], [8, 7, 3, 3, 3]]\n",
    "\n",
    "\n",
    "Dictionary for number and its frequency : \n",
    "{1: 4, 2: 1, 3: 4, 4: 3, 5: 3, 6: 1, 7: 3, 8: 1, 9: 3, 10: 2}\n",
    "\n",
    "\n",
    "Dictionary in descending order of frequency : \n",
    "{1: 4, 3: 4, 4: 3, 5: 3, 7: 3, 9: 3, 10: 2, 2: 1, 6: 1, 8: 1}\n",
    "\n",
    "\n",
    "Top three frequent numbers are [1, 3, 4]\n",
    "\n",
    "***"
   ]
  },
  {
   "cell_type": "code",
   "execution_count": 78,
   "metadata": {},
   "outputs": [
    {
     "data": {
      "text/plain": [
       "(5, 4)"
      ]
     },
     "execution_count": 78,
     "metadata": {},
     "output_type": "execute_result"
    }
   ],
   "source": [
    "sorted(app_se.items(),key=lambda kv:kv[1],reverse=True)[1]"
   ]
  },
  {
   "cell_type": "code",
   "execution_count": 81,
   "metadata": {},
   "outputs": [
    {
     "data": {
      "text/plain": [
       "[(8, 1), (1, 1), (6, 2), (3, 2), (9, 2), (2, 3), (10, 3), (7, 5), (5, 6)]"
      ]
     },
     "execution_count": 81,
     "metadata": {},
     "output_type": "execute_result"
    }
   ],
   "source": [
    "l = [[random.randint(a= 1,b=10) for i in range(5)]for i in range(5)]\n",
    "app_se={}\n",
    "\n",
    "    \n",
    "\n",
    "for  i in l:\n",
    "    for j in i: \n",
    "        if j  in app_se:\n",
    "            app_se[j]=app_se[j]+1\n",
    "        else:\n",
    "            app_se[j]=1\n",
    "            \n",
    "\n",
    "sorted(app_se.items(), key = lambda kv:kv[1])"
   ]
  },
  {
   "cell_type": "code",
   "execution_count": 84,
   "metadata": {},
   "outputs": [
    {
     "data": {
      "text/plain": [
       "(10, 3)"
      ]
     },
     "execution_count": 84,
     "metadata": {},
     "output_type": "execute_result"
    }
   ],
   "source": [
    "max(app_se.items())"
   ]
  },
  {
   "cell_type": "code",
   "execution_count": 83,
   "metadata": {},
   "outputs": [
    {
     "data": {
      "text/plain": [
       "{5: 6, 7: 5, 2: 3, 10: 3, 8: 1, 6: 2, 3: 2, 1: 1, 9: 2}"
      ]
     },
     "execution_count": 83,
     "metadata": {},
     "output_type": "execute_result"
    }
   ],
   "source": [
    "app_se"
   ]
  },
  {
   "cell_type": "markdown",
   "metadata": {},
   "source": [
    "# SECTION C: 30 MARKS"
   ]
  },
  {
   "cell_type": "markdown",
   "metadata": {},
   "source": [
    "--------------------"
   ]
  },
  {
   "cell_type": "markdown",
   "metadata": {},
   "source": [
    "### Q7. One way of encrypting a string message is to rearrange its characters. Simple way to rearrange the characters is to pick out the characters at even indices, put them first in the encrypted string and follow them by the odd characters.\n",
    "#### For example, the string message would be encrypted as msaeesg because the even characters are m, s, a, e (at indices 0, 2, 4, and 6) and the odd characters are e, s, g (at indices 1, 3, and 5).\n",
    "#### (a) Write a function encrypt()to encrypt the string given by user.\n",
    "#### (b) Write a function decrypt() to decrypt a string that was encrypted before.(15 Marks)\n",
    "\n",
    "\n",
    "***\n",
    "#### Sample Input/Output:\n",
    "<span style=\"font-family:consolas \">\n",
    "Encrypted message is :  SceMsaeertesg\n",
    "    \n",
    "Decrypted message is :  SecretMessage\n",
    "***"
   ]
  },
  {
   "cell_type": "code",
   "execution_count": 47,
   "metadata": {},
   "outputs": [
    {
     "data": {
      "text/plain": [
       "[9, 7, 3, 7, 2]"
      ]
     },
     "execution_count": 47,
     "metadata": {},
     "output_type": "execute_result"
    }
   ],
   "source": [
    "l.sort()\n",
    "max(l)"
   ]
  },
  {
   "cell_type": "code",
   "execution_count": 113,
   "metadata": {},
   "outputs": [
    {
     "name": "stdout",
     "output_type": "stream",
     "text": [
      "enter stringhasitha\n",
      "['a', 'i', 'h']\n",
      "['h', 's', 't', 'a']\n"
     ]
    }
   ],
   "source": [
    "x=(input('enter string'))\n",
    "even=[]\n",
    "odd=[]\n",
    "encode=[]\n",
    "for i in range(len(x)):\n",
    "    if i%2==0:\n",
    "        even.append(str(x[i]))\n",
    "    else:\n",
    "        odd.append(str(x[i]))\n",
    "print(odd)\n",
    "print(even)\n",
    "odd=tuple(odd)\n",
    "even = tuple(even)"
   ]
  },
  {
   "cell_type": "code",
   "execution_count": 115,
   "metadata": {},
   "outputs": [],
   "source": [
    "import itertools"
   ]
  },
  {
   "cell_type": "code",
   "execution_count": 116,
   "metadata": {},
   "outputs": [
    {
     "name": "stdout",
     "output_type": "stream",
     "text": [
      "h a\n",
      "s i\n",
      "t h\n",
      "a None\n",
      "['h', 'a', 's', 'i', 't', 'h', 'a', None]\n"
     ]
    }
   ],
   "source": [
    "pas = []\n",
    "for i,j in itertools. zip_longest(even,odd):\n",
    "    pas.append(i)\n",
    "    pas.append(j)\n",
    "    print(i,j)\n",
    "print( pas)\n",
    "    \n",
    "    "
   ]
  },
  {
   "cell_type": "code",
   "execution_count": null,
   "metadata": {},
   "outputs": [],
   "source": []
  },
  {
   "cell_type": "markdown",
   "metadata": {},
   "source": [
    "### Q8. Write a program that checks to see if a 4 * 4 list is a magic square. In a magic square, every row, column, and the two diagonals add up to the same value. Write a function magic_square which returns True if list is magic square otherwise it returns false (15 Marks)\n",
    "\n",
    "E.g Given below is 4 * 4 magic Square\n",
    "<pre>\n",
    "    1  15  14  4\n",
    "    10 11   8  5\n",
    "    7  6    9  12\n",
    "    16 2    3  13\n",
    "\n",
    "\n",
    "***\n",
    "#### Sample Input/Output: \n",
    "Its a magic Square\n",
    "\n",
    "***"
   ]
  },
  {
   "cell_type": "code",
   "execution_count": 116,
   "metadata": {},
   "outputs": [
    {
     "name": "stdout",
     "output_type": "stream",
     "text": [
      "Magic Square\n"
     ]
    }
   ],
   "source": [
    "def isMagicSquare( mat) :\n",
    "    n = len(mat)\n",
    "  # sumd1 and sumd2 are the sum of the two diagonals\n",
    "    sumd1=0\n",
    "    sumd2=0\n",
    "    for i in range(n):\n",
    "        sumd1+=mat[i][i]# (i, i) is the diagonal from top-left -> bottom-right\n",
    "        sumd2+=mat[i][n-i-1] # (i, n - i - 1) is the diagonal from top-right -> bottom-left\n",
    "    # if the two diagonal sums are unequal then it is not a magic square\n",
    "    if not(sumd1==sumd2):\n",
    "        return False\n",
    "    for i in range(n): #sumr is rowsum and sumc is colsum\n",
    "        sumr=0\n",
    "        sumc=0\n",
    "    for j in range(n):\n",
    "        sumr+=mat[i][j]\n",
    "        sumc+=mat[j][i]\n",
    "    if not(sumr==sumc==sumd1):\n",
    "        return False\n",
    "    #if all the conditions are satisfied then it is a magic square\n",
    "    return True\n",
    "mat = [ [ 1,15,14,4 ],\n",
    "        [ 10,11,8,5],\n",
    "        [ 7,6,9,12 ],\n",
    "      [16,2,3,13]]\n",
    "\n",
    "if (isMagicSquare(mat)) :\n",
    "    print( \"Magic Square\")\n",
    "else :\n",
    "    print( \"Not a magic Square\")"
   ]
  },
  {
   "cell_type": "code",
   "execution_count": null,
   "metadata": {},
   "outputs": [],
   "source": []
  },
  {
   "cell_type": "code",
   "execution_count": null,
   "metadata": {},
   "outputs": [],
   "source": []
  },
  {
   "cell_type": "code",
   "execution_count": null,
   "metadata": {},
   "outputs": [],
   "source": []
  }
 ],
 "metadata": {
  "kernelspec": {
   "display_name": "Python 3 (ipykernel)",
   "language": "python",
   "name": "python3"
  },
  "language_info": {
   "codemirror_mode": {
    "name": "ipython",
    "version": 3
   },
   "file_extension": ".py",
   "mimetype": "text/x-python",
   "name": "python",
   "nbconvert_exporter": "python",
   "pygments_lexer": "ipython3",
   "version": "3.9.7"
  }
 },
 "nbformat": 4,
 "nbformat_minor": 2
}
